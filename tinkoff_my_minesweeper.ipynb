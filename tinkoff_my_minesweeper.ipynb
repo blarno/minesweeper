{
 "cells": [
  {
   "cell_type": "code",
   "execution_count": 1,
   "metadata": {},
   "outputs": [
    {
     "name": "stdout",
     "output_type": "stream",
     "text": [
      "f - - -\n",
      "\n",
      "- 1 f -\n",
      "\n",
      "- - - -\n",
      "\n",
      "- - - -\n",
      "\n",
      "Кол-во оставшихся флагов: 3\n",
      "Введите координанты точки и действие через запятую [X,Y,Action],save если вы хотите сохраниться или exit:\n",
      "exit\n"
     ]
    },
    {
     "data": {
      "text/plain": [
       "()"
      ]
     },
     "execution_count": 1,
     "metadata": {},
     "output_type": "execute_result"
    }
   ],
   "source": [
    "import random\n",
    "from IPython.display import clear_output\n",
    "from cryptography.fernet import Fernet\n",
    "# Загружаем ключ 'crypto.key' из текущего каталога\n",
    "def Load_key():\n",
    "    return open('crypto.key', 'rb').read()\n",
    "# Загружаем файлы сохранения из текущего каталога, если они в нем есть, дешифруем один из них и собираем карты игрока и игры\n",
    "def Load():\n",
    "    try:\n",
    "        file = open('save.txt')\n",
    "    except IOError as e:\n",
    "        print(u'файла сохранения нет,начнем сначала')\n",
    "    else:\n",
    "        with file:\n",
    "            suit = Fernet(Load_key())\n",
    "            cnt = 0\n",
    "            file = open('save.txt','rb')\n",
    "            decoded_text = suit.decrypt(file.read())\n",
    "            arr = str(decoded_text.decode(\"utf-8\")).replace('[','').replace(' ','').replace(\"'\",'').split('],')\n",
    "            arr[-1] = arr[-1].replace(']','')\n",
    "            for i in range(len(arr)):\n",
    "                arr[i] = arr[i].split(',')\n",
    "            for i in range(len(arr)):\n",
    "                for j in range(len(arr[i])):\n",
    "                    if(arr[i][j]!='X'):\n",
    "                        arr[i][j] = int(arr[i][j])\n",
    "                    else:\n",
    "                        cnt+=1\n",
    "    file = open('save_player.txt')\n",
    "    player_arr = str(file.read()).replace('[','').replace(' ','').replace(\"'\",'').split('],')\n",
    "    player_arr[-1] = player_arr[-1].replace(']','')\n",
    "    for i in range(len(player_arr)):\n",
    "                player_arr[i] = player_arr[i].split(',')\n",
    "    return player_arr,arr,len(arr[1]),cnt\n",
    "# Сохраняем ключ шифрования в отдельный файл в текущем каталоге\n",
    "def Write_key():\n",
    "    key = Fernet.generate_key()\n",
    "    with open('crypto.key', 'wb') as key_file:\n",
    "        key_file.write(key)\n",
    "    return key\n",
    "# Сохраняем карты игрока и игры в текущий каталог и шифруем вторую\n",
    "def Save(arr,player_arr):\n",
    "    key = Write_key()\n",
    "    suit = Fernet(key)\n",
    "    arr_save = bytes(str(arr),'utf-8')\n",
    "    arr_player_save = str(player_arr)\n",
    "    f = open('save.txt', 'wb' )\n",
    "    f.write(suit.encrypt(arr_save))\n",
    "    f.close()\n",
    "    f = open('save_player.txt', 'w' )\n",
    "    for item in arr_player_save:\n",
    "        for i in item:\n",
    "            f.write(i)\n",
    "    f.close()\n",
    "    return\n",
    "# в случае, если нет сохранений, генерим карты игрока и игры и правильно расставляем цифры\n",
    "def Create_map(load):\n",
    "    if load==1:\n",
    "        return Load()\n",
    "    #создаем шаблон поля размера n*n\n",
    "    n = int(input(\"Введите размер поля:\"))\n",
    "    k = int(input(\"Введите кол-во бомб:\"))\n",
    "    arr = [[0] * n for i in range(n)]\n",
    "    player_arr = [['-'] * n for i in range(n)]\n",
    "    for i in range(k):\n",
    "        bomb_x = random.randint(0,n-1)\n",
    "        bomb_y = random.randint(0,n-1)\n",
    "        # проверяем нет ли уже бомбы на наших координатах\n",
    "        if(arr[bomb_y][bomb_x] == 'X'):\n",
    "            while(arr[bomb_y][bomb_x] == 'X'):\n",
    "                bomb_x = random.randint(0,n-1)\n",
    "                bomb_y = random.randint(0,n-1)\n",
    "        arr[bomb_y][bomb_x] = 'X'\n",
    "        # заполняем элементы вокруг бомб числами\n",
    "        # убираем возможность выйти за пределы индексации двумерного списка и проверяем нет ли там, где нам нужно увеличить число, 'X'\n",
    "        if (bomb_x >= 1 and bomb_x <= n-1) and (bomb_y >= 1 and bomb_y <= n-1) and (arr[bomb_y-1][bomb_x-1]!='X'): #лево верх\n",
    "            arr[bomb_y-1][bomb_x-1] += 1 \n",
    "        if (bomb_x >= 0 and bomb_x <= n-1) and (bomb_y >= 1 and bomb_y <= n-1) and (arr[bomb_y-1][bomb_x]!='X'): #центр верх\n",
    "            arr[bomb_y-1][bomb_x] += 1 \n",
    "        if (bomb_x >= 0 and bomb_x <= n-2) and (bomb_y >= 1 and bomb_y <= n-1) and (arr[bomb_y-1][bomb_x+1]!='X'): #право верх\n",
    "            arr[bomb_y-1][bomb_x+1] += 1 \n",
    "        if (bomb_x >=1 and bomb_x <= n-1) and (bomb_y >= 0 and bomb_y <= n-1) and (arr[bomb_y][bomb_x-1]!='X'): # лево центр\n",
    "            arr[bomb_y][bomb_x-1] += 1 \n",
    "        if (bomb_x >=0 and bomb_x <= n-2) and (bomb_y >= 0 and bomb_y <= n-1) and (arr[bomb_y][bomb_x+1]!='X'): # право центр\n",
    "            arr[bomb_y][bomb_x+1] += 1 \n",
    "        if (bomb_y >= 1 and bomb_x <= n-1) and (bomb_y >= 0 and bomb_y <= n-2) and (arr[bomb_y+1][bomb_x-1]!='X'): # лево низ\n",
    "            arr[bomb_y+1][bomb_x-1] += 1 \n",
    "        if (bomb_x >= 0 and bomb_x <= n-1) and (bomb_y >= 0 and bomb_y <= n-2) and (arr[bomb_y+1][bomb_x]!='X'): # центр низ\n",
    "            arr[bomb_y+1][bomb_x] += 1 \n",
    "        if (bomb_x >=0 and bomb_x <= n-2) and (bomb_y >= 0 and bomb_y <= n-2) and (arr[bomb_y+1][bomb_x+1]!='X'): #центр право\n",
    "            arr[bomb_y+1][bomb_x+1] += 1 \n",
    "    return(player_arr,arr,n,k)\n",
    "#более-менее приемлемое отображение карт на экране\n",
    "def show_arr(arr):\n",
    "    for row in arr:\n",
    "        print(\" \".join(str(cell) for cell in row))\n",
    "        print(\"\")\n",
    "#сам алгоритм игры\n",
    "def Game():\n",
    "    load = int(input('Загрузить игру(введите 1) или начать новую(введите 0)?'))            \n",
    "    player_arr,arr,n,k = Create_map(load)\n",
    "    score = 0\n",
    "    flag_count = k\n",
    "    while True:\n",
    "        clear_output()\n",
    "        # условие победы\n",
    "        if(score==(n*n-k)):\n",
    "            print(\"Ты выиграл!\")\n",
    "            break\n",
    "        show_arr(player_arr)\n",
    "        print(\"Кол-во оставшихся флагов: \" + str(flag_count))\n",
    "        print(\"Введите координанты точки и действие через запятую [X,Y,Action],save если вы хотите сохраниться или exit:\")\n",
    "        inp = str(input())\n",
    "        #считываем input и выполняем нужное пользователю дейсвтие\n",
    "        if(inp =='save'):\n",
    "            Save(arr,player_arr)\n",
    "            continue\n",
    "        if(inp == 'exit'):\n",
    "            Save(arr,player_arr)\n",
    "            print('Спасибо за игру!')\n",
    "            break\n",
    "        inp_arr = inp.replace(\" \",\"\").split(',') \n",
    "        if(len(inp_arr) == 3):\n",
    "            x = int(inp_arr[0]) - 1 \n",
    "            y = int(inp_arr[1]) - 1\n",
    "            action = inp_arr[2].lower()\n",
    "        else:\n",
    "            x = int(inp_arr[0]) - 1 \n",
    "            y = int(inp_arr[1]) - 1\n",
    "            action = 'nothing'\n",
    "        if(action=='flag'):\n",
    "            if(flag_count != 0 or player_arr[y][x]!= 'f'):\n",
    "                player_arr[y][x] = 'f'\n",
    "                flag_count -=1\n",
    "                continue\n",
    "            else:\n",
    "                continue\n",
    "        # условие проигрыша\n",
    "        if (arr[y][x] == 'X'):\n",
    "            print(\"Game Over!\")\n",
    "            show_arr(arr)\n",
    "            break\n",
    "        else:\n",
    "            player_arr[y][x] = arr[y][x]\n",
    "            score+=1\n",
    "    return()\n",
    "Game()"
   ]
  },
  {
   "cell_type": "code",
   "execution_count": 57,
   "metadata": {},
   "outputs": [],
   "source": [
    "from cryptography.fernet import Fernet\n",
    "key = Fernet.generate_key() #this is your \"password\"\n",
    "with open('crypto.key', 'wb') as key_file:\n",
    "        key_file.write(key)\n",
    "key = load_key()\n",
    "cipher_suite = Fernet(key)\n",
    "encoded_text = cipher_suite.encrypt(b\"Hello stackoverflow!\")\n",
    "decoded_text = cipher_suite.decrypt(encoded_text)"
   ]
  },
  {
   "cell_type": "code",
   "execution_count": 58,
   "metadata": {},
   "outputs": [
    {
     "data": {
      "text/plain": [
       "b'Hello stackoverflow!'"
      ]
     },
     "execution_count": 58,
     "metadata": {},
     "output_type": "execute_result"
    }
   ],
   "source": [
    "decoded_text"
   ]
  },
  {
   "cell_type": "code",
   "execution_count": 56,
   "metadata": {},
   "outputs": [],
   "source": [
    "def load_key():\n",
    "# Загружаем ключ 'crypto.key' из текущего каталога\n",
    "    return open('crypto.key', 'rb').read()"
   ]
  },
  {
   "cell_type": "code",
   "execution_count": 39,
   "metadata": {},
   "outputs": [],
   "source": [
    "from cryptography.fernet import Fernet\n",
    "key = Fernet.generate_key() #this is your \"password\"\n",
    "cipher_suite = Fernet(key)\n",
    "encoded_text = cipher_suite.encrypt(b\"Hello stackoverflow!\")\n",
    "decoded_text = cipher_suite.decrypt(encoded_text)"
   ]
  },
  {
   "cell_type": "code",
   "execution_count": 43,
   "metadata": {},
   "outputs": [
    {
     "data": {
      "text/plain": [
       "'[[0, 0], [0, 0]]'"
      ]
     },
     "execution_count": 43,
     "metadata": {},
     "output_type": "execute_result"
    }
   ],
   "source": [
    "decoded_text.decode(\"utf-8\")"
   ]
  },
  {
   "cell_type": "code",
   "execution_count": null,
   "metadata": {},
   "outputs": [],
   "source": []
  }
 ],
 "metadata": {
  "kernelspec": {
   "display_name": "Python 3",
   "language": "python",
   "name": "python3"
  },
  "language_info": {
   "codemirror_mode": {
    "name": "ipython",
    "version": 3
   },
   "file_extension": ".py",
   "mimetype": "text/x-python",
   "name": "python",
   "nbconvert_exporter": "python",
   "pygments_lexer": "ipython3",
   "version": "3.7.3"
  }
 },
 "nbformat": 4,
 "nbformat_minor": 2
}
